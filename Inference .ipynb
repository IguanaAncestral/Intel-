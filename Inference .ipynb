{
 "cells": [
  {
   "cell_type": "code",
   "execution_count": 72,
   "id": "1d3e1dbc",
   "metadata": {},
   "outputs": [],
   "source": [
    "import os\n",
    "from pathlib import Path\n",
    "import tensorflow as tf\n",
    "from tensorflow import keras\n",
    "from tensorflow.keras import Model\n",
    "from keras.models import load_model\n",
    "import numpy as np\n",
    "\n",
    "model = keras.models.load_model('model_92.h5')"
   ]
  },
  {
   "cell_type": "code",
   "execution_count": 73,
   "id": "40ae69a3",
   "metadata": {},
   "outputs": [],
   "source": [
    "labels = ['buildings',\n",
    "    'forest',\n",
    "    'glacier',\n",
    "    'mountain',\n",
    "    'sea',\n",
    "    'street']"
   ]
  },
  {
   "cell_type": "code",
   "execution_count": 74,
   "id": "a430f651",
   "metadata": {
    "scrolled": true
   },
   "outputs": [
    {
     "name": "stdout",
     "output_type": "stream",
     "text": [
      "..\\Q2B\\test\\0000.jpg glacier\n",
      "..\\Q2B\\test\\0001.jpg glacier\n",
      "..\\Q2B\\test\\0003.jpg glacier\n",
      "..\\Q2B\\test\\0004.jpg glacier\n",
      "..\\Q2B\\test\\0005.jpg glacier\n",
      "..\\Q2B\\test\\0006.jpg sea\n",
      "..\\Q2B\\test\\2994.jpg glacier\n",
      "..\\Q2B\\test\\2995.jpg glacier\n",
      "..\\Q2B\\test\\2996.jpg glacier\n",
      "..\\Q2B\\test\\2997.jpg glacier\n",
      "..\\Q2B\\test\\2998.jpg glacier\n",
      "..\\Q2B\\test\\2999.jpg glacier\n",
      "..\\Q2B\\test\\38.jpg glacier\n",
      "..\\Q2B\\test\\51.jpg glacier\n",
      "..\\Q2B\\test\\52.jpg glacier\n",
      "..\\Q2B\\test\\61.jpg sea\n",
      "..\\Q2B\\test\\63.jpg glacier\n",
      "..\\Q2B\\test\\64.jpg sea\n",
      "..\\Q2B\\test\\69.jpg glacier\n",
      "..\\Q2B\\test\\70.jpg glacier\n",
      "..\\Q2B\\test\\72.jpg sea\n"
     ]
    }
   ],
   "source": [
    "folder_dir =\"../Q2B/test/\"\n",
    " \n",
    "# iterate over files in\n",
    "# that directory\n",
    "images= Path(folder_dir).glob('*.jpg')\n",
    "for image in images:\n",
    "    img = keras.preprocessing.image.load_img(image, target_size=(150, 150)) \n",
    "    img_array = keras.preprocessing.image.img_to_array(img)\n",
    "    img_array = tf.expand_dims(img_array, 0)  # Create batch axis\n",
    "    predictions = model.predict(img_array)\n",
    "    print(image, labels[np.argmax(predictions)])\n"
   ]
  }
 ],
 "metadata": {
  "kernelspec": {
   "display_name": "Python 3",
   "language": "python",
   "name": "python3"
  },
  "language_info": {
   "codemirror_mode": {
    "name": "ipython",
    "version": 3
   },
   "file_extension": ".py",
   "mimetype": "text/x-python",
   "name": "python",
   "nbconvert_exporter": "python",
   "pygments_lexer": "ipython3",
   "version": "3.8.8"
  }
 },
 "nbformat": 4,
 "nbformat_minor": 5
}
